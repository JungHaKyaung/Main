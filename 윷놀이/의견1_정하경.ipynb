{
 "cells": [
  {
   "attachments": {
    "image-2.png": {
     "image/png": "[encoded data removed]"
    }
   },
   "cell_type": "markdown",
   "id": "52e2fbc2",
   "metadata": {},
   "source": [
    "### 1. 6 X 6 길 안에 대각선으로 가로지르는 판 생성\n",
    "![image-2.png](attachment:image-2.png)"
   ]
  },
  {
   "cell_type": "markdown",
   "id": "22395e81",
   "metadata": {},
   "source": [
    "### 2. 몇 명이 플레이할 건지 입력\n",
    "- 두 팀으로 나눌 수 있을 정도 "
   ]
  },
  {
   "cell_type": "markdown",
   "id": "776fb4f7",
   "metadata": {},
   "source": [
    "### 3. 상대 말을 잡았을 경우 한 번 더 던지기\n",
    "- 잡힌 말은 처음부터 다시"
   ]
  },
  {
   "cell_type": "markdown",
   "id": "d0ad1e19",
   "metadata": {},
   "source": [
    "### 4. 말이 한 바퀴 돌면 팀 점수 올라감"
   ]
  },
  {
   "cell_type": "markdown",
   "id": "01455198",
   "metadata": {},
   "source": [
    "### 5. 말이 모서리에 도착했을 때 방향 선택 기능\n",
    "- 대각선으로 갈 것인지 바깥으로 갈 것인지 결정"
   ]
  },
  {
   "cell_type": "markdown",
   "id": "6a82d406",
   "metadata": {},
   "source": [
    "### 6. 윷이나 모가 나오는 경우 한 번 더 던지기"
   ]
  },
  {
   "cell_type": "markdown",
   "id": "4d7ccb27",
   "metadata": {},
   "source": [
    "### 7. "
   ]
  }
 ],
 "metadata": {
  "kernelspec": {
   "display_name": "Python 3 (ipykernel)",
   "language": "python",
   "name": "python3"
  },
  "language_info": {
   "codemirror_mode": {
    "name": "ipython",
    "version": 3
   },
   "file_extension": ".py",
   "mimetype": "text/x-python",
   "name": "python",
   "nbconvert_exporter": "python",
   "pygments_lexer": "ipython3",
   "version": "3.9.13"
  }
 },
 "nbformat": 4,
 "nbformat_minor": 5
}
